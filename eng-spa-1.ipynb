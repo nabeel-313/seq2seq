{
 "cells": [
  {
   "cell_type": "raw",
   "id": "0775fb82",
   "metadata": {},
   "source": [
    "##https://www.pluralsight.com/guides/encoders-and-decoders-for-neural-machine-translation\n",
    "\n",
    "##https://www.pluralsight.com/guides/nmt:-encoder-and-decoder-with-keras"
   ]
  },
  {
   "cell_type": "code",
   "execution_count": 7,
   "id": "82f82fb2",
   "metadata": {},
   "outputs": [],
   "source": [
    "import tensorflow as tf\n",
    "import numpy as np\n",
    "from tensorflow import keras\n",
    "from keras.layers import *\n",
    "from keras.models import *\n",
    "from keras.utils import *\n",
    "from keras.initializers import *\n",
    "from keras.optimizers import * "
   ]
  },
  {
   "cell_type": "code",
   "execution_count": 12,
   "id": "3d65d341",
   "metadata": {},
   "outputs": [],
   "source": [
    "batch_size = 64  \n",
    "epochs = 20  \n",
    "latent_dim = 256  \n",
    "num_samples = 10000  \n",
    "\n",
    "# set the data_path accordingly\n",
    "data_path = r\"E:\\Pycharm_Projects\\tf_prac\\Encoder,Decoder,Seq2Seq\\eng-spa\\spa.txt\""
   ]
  },
  {
   "cell_type": "code",
   "execution_count": 3,
   "id": "6fdf0d30",
   "metadata": {},
   "outputs": [
    {
     "name": "stdout",
     "output_type": "stream",
     "text": [
      "{'a', 'd', '.', 'F', 'f', 'N', '7', '5', '-', 'k', 'q', 'e', 'l', \"'\", 'D', '9', 'r', 'C', '6', 'b', 'c', 'T', 'U', 'h', 'g', 'u', 'J', 'z', '3', '0', 'S', 'Y', 'E', ',', 'm', '!', 'I', 'O', 'P', '$', 'j', ':', '2', 'x', 'n', 'K', 'w', 'M', 'Q', '?', 'p', 'V', '1', 'H', ' ', 'y', 'L', '8', 'i', 'R', 'W', '4', 'B', 's', 'G', 't', 'A', 'v', 'o'}\n",
      "{'«', 'F', 'ü', 'k', 'C', 'g', '!', 'O', 'w', 'M', 'Q', 'V', 'p', 'É', ' ', 'i', 'Ú', 'W', '4', 't', 'A', 'v', 'o', 'é', 'ó', 'N', 'e', 'D', 'r', 'U', 'T', 'u', '3', '0', 'S', 'Y', 'E', '\"', 'm', 'P', 'j', 'Ó', '\\t', '2', 'x', 'n', '?', 'H', 'R', 'G', '.', 'f', '7', '5', '¡', 'q', 'l', \"'\", '6', 'ñ', 'h', '¿', 'z', ',', '1', '»', '8', 'B', 's', 'a', 'd', '-', 'c', 'J', 'í', 'I', '\\n', ':', 'Á', 'ú', 'L', 'y', 'á', 'b'}\n"
     ]
    }
   ],
   "source": [
    "input_texts = []\n",
    "target_texts = []\n",
    "input_characters = set()\n",
    "target_characters = set()\n",
    "with open(data_path, \"r\", encoding=\"utf-8\") as f:\n",
    "    lines = f.read().split(\"\\n\")\n",
    "    \n",
    "    \n",
    "for line in lines[: min(num_samples, len(lines) - 1)]:\n",
    "    input_text, target_text, _ = line.split(\"\\t\")\n",
    "    ############### A ###############\n",
    "    target_text = \"\\t\" + target_text + \"\\n\"\n",
    "    input_texts.append(input_text)\n",
    "    target_texts.append(target_text)\n",
    "    ############### B ###############\n",
    "    for char in input_text:\n",
    "        if char not in input_characters:\n",
    "            input_characters.add(char)\n",
    "    for char in target_text:\n",
    "        if char not in target_characters:\n",
    "            target_characters.add(char)\n",
    "print(input_characters)\n",
    "print(target_characters)"
   ]
  },
  {
   "cell_type": "code",
   "execution_count": 4,
   "id": "cd3720c5",
   "metadata": {},
   "outputs": [
    {
     "name": "stdout",
     "output_type": "stream",
     "text": [
      "No.of samples: 10000\n",
      "No.of unique input tokens: 69\n",
      "No.of unique output tokens: 84\n",
      "Maximum seq length for inputs: 16\n",
      "Maximum seq length for outputs: 47\n"
     ]
    }
   ],
   "source": [
    "input_characters = sorted(list(input_characters))\n",
    "target_characters = sorted(list(target_characters))\n",
    "num_encoder_tokens = len(input_characters)\n",
    "num_decoder_tokens = len(target_characters)\n",
    "max_encoder_seq_length = max([len(txt) for txt in input_texts])\n",
    "max_decoder_seq_length = max([len(txt) for txt in target_texts])\n",
    "print(\"No.of samples:\", len(input_texts))\n",
    "print(\"No.of unique input tokens:\", num_encoder_tokens)\n",
    "print(\"No.of unique output tokens:\", num_decoder_tokens)\n",
    "print(\"Maximum seq length for inputs:\", max_encoder_seq_length)\n",
    "print(\"Maximum seq length for outputs:\", max_decoder_seq_length)"
   ]
  },
  {
   "cell_type": "code",
   "execution_count": 5,
   "id": "c083fd70",
   "metadata": {},
   "outputs": [
    {
     "name": "stdout",
     "output_type": "stream",
     "text": [
      "{' ': 0, '!': 1, '$': 2, \"'\": 3, ',': 4, '-': 5, '.': 6, '0': 7, '1': 8, '2': 9, '3': 10, '4': 11, '5': 12, '6': 13, '7': 14, '8': 15, '9': 16, ':': 17, '?': 18, 'A': 19, 'B': 20, 'C': 21, 'D': 22, 'E': 23, 'F': 24, 'G': 25, 'H': 26, 'I': 27, 'J': 28, 'K': 29, 'L': 30, 'M': 31, 'N': 32, 'O': 33, 'P': 34, 'Q': 35, 'R': 36, 'S': 37, 'T': 38, 'U': 39, 'V': 40, 'W': 41, 'Y': 42, 'a': 43, 'b': 44, 'c': 45, 'd': 46, 'e': 47, 'f': 48, 'g': 49, 'h': 50, 'i': 51, 'j': 52, 'k': 53, 'l': 54, 'm': 55, 'n': 56, 'o': 57, 'p': 58, 'q': 59, 'r': 60, 's': 61, 't': 62, 'u': 63, 'v': 64, 'w': 65, 'x': 66, 'y': 67, 'z': 68}\n",
      "{'\\t': 0, '\\n': 1, ' ': 2, '!': 3, '\"': 4, \"'\": 5, ',': 6, '-': 7, '.': 8, '0': 9, '1': 10, '2': 11, '3': 12, '4': 13, '5': 14, '6': 15, '7': 16, '8': 17, ':': 18, '?': 19, 'A': 20, 'B': 21, 'C': 22, 'D': 23, 'E': 24, 'F': 25, 'G': 26, 'H': 27, 'I': 28, 'J': 29, 'L': 30, 'M': 31, 'N': 32, 'O': 33, 'P': 34, 'Q': 35, 'R': 36, 'S': 37, 'T': 38, 'U': 39, 'V': 40, 'W': 41, 'Y': 42, 'a': 43, 'b': 44, 'c': 45, 'd': 46, 'e': 47, 'f': 48, 'g': 49, 'h': 50, 'i': 51, 'j': 52, 'k': 53, 'l': 54, 'm': 55, 'n': 56, 'o': 57, 'p': 58, 'q': 59, 'r': 60, 's': 61, 't': 62, 'u': 63, 'v': 64, 'w': 65, 'x': 66, 'y': 67, 'z': 68, '¡': 69, '«': 70, '»': 71, '¿': 72, 'Á': 73, 'É': 74, 'Ó': 75, 'Ú': 76, 'á': 77, 'é': 78, 'í': 79, 'ñ': 80, 'ó': 81, 'ú': 82, 'ü': 83}\n"
     ]
    }
   ],
   "source": [
    "input_token_index = dict([(char, i) for i, char in enumerate(input_characters)])\n",
    "target_token_index = dict([(char, i) for i, char in enumerate(target_characters)])\n",
    "print(input_token_index)\n",
    "print(target_token_index)"
   ]
  },
  {
   "cell_type": "code",
   "execution_count": 8,
   "id": "fa37db3c",
   "metadata": {},
   "outputs": [],
   "source": [
    "encoder_input_data = np.zeros(\n",
    "  (len(input_texts), max_encoder_seq_length, num_encoder_tokens), dtype=\"float32\"\n",
    ")\n",
    "\n",
    "decoder_input_data = np.zeros(\n",
    "  (len(input_texts), max_decoder_seq_length, num_decoder_tokens), dtype=\"float32\"\n",
    ")\n",
    "decoder_target_data = np.zeros(\n",
    "  (len(input_texts), max_decoder_seq_length, num_decoder_tokens), dtype=\"float32\"\n",
    ")\n",
    "\n",
    "for i, (input_text, target_text) in enumerate(zip(input_texts, target_texts)):\n",
    "    for t, char in enumerate(input_text):\n",
    "        encoder_input_data[i, t, input_token_index[char]] = 1.0\n",
    "    encoder_input_data[i, t + 1 :, input_token_index[\" \"]] = 1.0\n",
    "    for t, char in enumerate(target_text):\n",
    "        decoder_input_data[i, t, target_token_index[char]] = 1.0\n",
    "        if t > 0:\n",
    "            decoder_target_data[i, t - 1, target_token_index[char]] = 1.0\n",
    "    decoder_input_data[i, t + 1 :, target_token_index[\" \"]] = 1.0\n",
    "    decoder_target_data[i, t:, target_token_index[\" \"]] = 1.0"
   ]
  },
  {
   "cell_type": "code",
   "execution_count": 9,
   "id": "6b1bf52f",
   "metadata": {},
   "outputs": [],
   "source": [
    "encoder_inputs = keras.Input(shape=(None, num_encoder_tokens))\n",
    "encoder = keras.layers.LSTM(latent_dim, return_state=True)\n",
    "encoder_outputs, state_h, state_c = encoder(encoder_inputs)\n",
    "encoder_states = [state_h, state_c]"
   ]
  },
  {
   "cell_type": "code",
   "execution_count": 10,
   "id": "fcaccfa3",
   "metadata": {},
   "outputs": [],
   "source": [
    "decoder_inputs = keras.Input(shape=(None, num_decoder_tokens))\n",
    "decoder_lstm = keras.layers.LSTM(latent_dim, return_sequences=True, return_state=True)\n",
    "decoder_outputs, _, _ = decoder_lstm(decoder_inputs, initial_state=encoder_states)\n",
    "decoder_dense = keras.layers.Dense(num_decoder_tokens, activation=\"softmax\")\n",
    "decoder_outputs = decoder_dense(decoder_outputs)"
   ]
  },
  {
   "cell_type": "code",
   "execution_count": 13,
   "id": "2e6e6028",
   "metadata": {},
   "outputs": [
    {
     "name": "stdout",
     "output_type": "stream",
     "text": [
      "Epoch 1/20\n",
      "125/125 [==============================] - 51s 375ms/step - loss: 0.4675 - accuracy: 0.8589 - val_loss: 0.5686 - val_accuracy: 0.8301\n",
      "Epoch 2/20\n",
      "125/125 [==============================] - 42s 334ms/step - loss: 0.4211 - accuracy: 0.8724 - val_loss: 0.5527 - val_accuracy: 0.8351\n",
      "Epoch 3/20\n",
      "125/125 [==============================] - 43s 344ms/step - loss: 0.3938 - accuracy: 0.8805 - val_loss: 0.5350 - val_accuracy: 0.8405\n",
      "Epoch 4/20\n",
      "125/125 [==============================] - 44s 350ms/step - loss: 0.3667 - accuracy: 0.8887 - val_loss: 0.5281 - val_accuracy: 0.8431\n",
      "Epoch 5/20\n",
      "125/125 [==============================] - 40s 316ms/step - loss: 0.3438 - accuracy: 0.8954 - val_loss: 0.5212 - val_accuracy: 0.8473\n",
      "Epoch 6/20\n",
      "125/125 [==============================] - 45s 364ms/step - loss: 0.3206 - accuracy: 0.9024 - val_loss: 0.5142 - val_accuracy: 0.8513\n",
      "Epoch 7/20\n",
      "125/125 [==============================] - 47s 375ms/step - loss: 0.2994 - accuracy: 0.9086 - val_loss: 0.5149 - val_accuracy: 0.8512\n",
      "Epoch 8/20\n",
      "125/125 [==============================] - 47s 378ms/step - loss: 0.2795 - accuracy: 0.9143 - val_loss: 0.5143 - val_accuracy: 0.8527\n",
      "Epoch 9/20\n",
      "125/125 [==============================] - 45s 360ms/step - loss: 0.2604 - accuracy: 0.9201 - val_loss: 0.5165 - val_accuracy: 0.8544\n",
      "Epoch 10/20\n",
      "125/125 [==============================] - 45s 363ms/step - loss: 0.2425 - accuracy: 0.9254 - val_loss: 0.5246 - val_accuracy: 0.8542\n",
      "Epoch 11/20\n",
      "125/125 [==============================] - 41s 325ms/step - loss: 0.2247 - accuracy: 0.9308 - val_loss: 0.5272 - val_accuracy: 0.8561\n",
      "Epoch 12/20\n",
      "125/125 [==============================] - 40s 321ms/step - loss: 0.2099 - accuracy: 0.9350 - val_loss: 0.5368 - val_accuracy: 0.8556\n",
      "Epoch 13/20\n",
      "125/125 [==============================] - 38s 305ms/step - loss: 0.1949 - accuracy: 0.9401 - val_loss: 0.5431 - val_accuracy: 0.8557\n",
      "Epoch 14/20\n",
      "125/125 [==============================] - 39s 313ms/step - loss: 0.1818 - accuracy: 0.9439 - val_loss: 0.5562 - val_accuracy: 0.8549\n",
      "Epoch 15/20\n",
      "125/125 [==============================] - 38s 308ms/step - loss: 0.1689 - accuracy: 0.9480 - val_loss: 0.5694 - val_accuracy: 0.8540\n",
      "Epoch 16/20\n",
      "125/125 [==============================] - 39s 311ms/step - loss: 0.1576 - accuracy: 0.9517 - val_loss: 0.5780 - val_accuracy: 0.8543\n",
      "Epoch 17/20\n",
      "125/125 [==============================] - 38s 304ms/step - loss: 0.1477 - accuracy: 0.9548 - val_loss: 0.5879 - val_accuracy: 0.8536\n",
      "Epoch 18/20\n",
      "125/125 [==============================] - 39s 311ms/step - loss: 0.1377 - accuracy: 0.9579 - val_loss: 0.5990 - val_accuracy: 0.8538\n",
      "Epoch 19/20\n",
      "125/125 [==============================] - 38s 304ms/step - loss: 0.1296 - accuracy: 0.9605 - val_loss: 0.6106 - val_accuracy: 0.8525\n",
      "Epoch 20/20\n",
      "125/125 [==============================] - 39s 315ms/step - loss: 0.1206 - accuracy: 0.9635 - val_loss: 0.6245 - val_accuracy: 0.8521\n"
     ]
    },
    {
     "name": "stderr",
     "output_type": "stream",
     "text": [
      "WARNING:absl:Found untraced functions such as lstm_cell_layer_call_fn, lstm_cell_layer_call_and_return_conditional_losses, lstm_cell_1_layer_call_fn, lstm_cell_1_layer_call_and_return_conditional_losses while saving (showing 4 of 4). These functions will not be directly callable after loading.\n"
     ]
    },
    {
     "name": "stdout",
     "output_type": "stream",
     "text": [
      "INFO:tensorflow:Assets written to: E2S\\assets\n"
     ]
    },
    {
     "name": "stderr",
     "output_type": "stream",
     "text": [
      "INFO:tensorflow:Assets written to: E2S\\assets\n"
     ]
    }
   ],
   "source": [
    "model = keras.Model([encoder_inputs, decoder_inputs], decoder_outputs)\n",
    "\n",
    "model.compile(optimizer=Adam(lr=0.01, beta_1=0.9, beta_2=0.999, decay=0.001), loss='categorical_crossentropy', metrics=[\"accuracy\"])\n",
    "\n",
    "model.fit(\n",
    "    [encoder_input_data, decoder_input_data],\n",
    "    decoder_target_data,\n",
    "    batch_size=batch_size,\n",
    "    epochs=epochs,\n",
    "    validation_split=0.2,\n",
    ")\n",
    "model.save(\"E2S\")"
   ]
  },
  {
   "cell_type": "code",
   "execution_count": null,
   "id": "d4d505a3",
   "metadata": {},
   "outputs": [],
   "source": [
    "from keras.utils import plot_model\n",
    "\n",
    "plot_model(model, to_file='modelsummary.png', show_shapes=True, show_layer_names=True)"
   ]
  },
  {
   "cell_type": "code",
   "execution_count": 14,
   "id": "34aa2f52",
   "metadata": {},
   "outputs": [
    {
     "name": "stdout",
     "output_type": "stream",
     "text": [
      "shape encoder_input_data : (10000, 16, 69)\n",
      "shape decoder_input_data : (10000, 47, 84)\n",
      "shape decoder_target_data: (10000, 47, 84)\n"
     ]
    }
   ],
   "source": [
    "print(\"shape encoder_input_data :\",encoder_input_data.shape)\n",
    "print(\"shape decoder_input_data :\",decoder_input_data.shape)\n",
    "print(\"shape decoder_target_data:\",decoder_target_data.shape)"
   ]
  },
  {
   "cell_type": "code",
   "execution_count": 15,
   "id": "6ffedb8d",
   "metadata": {},
   "outputs": [],
   "source": [
    "encoder_inputs = model.input[0]  # input_1\n",
    "encoder_outputs, state_h_enc, state_c_enc = model.layers[2].output  # lstm_1\n",
    "encoder_states = [state_h_enc, state_c_enc]\n",
    "encoder_model = keras.Model(encoder_inputs, encoder_states)"
   ]
  },
  {
   "cell_type": "code",
   "execution_count": 16,
   "id": "13094474",
   "metadata": {},
   "outputs": [],
   "source": [
    "decoder_inputs = model.input[1]  # input_2\n",
    "decoder_state_input_h = keras.Input(shape=(latent_dim,), name=\"input_3\")\n",
    "decoder_state_input_c = keras.Input(shape=(latent_dim,), name=\"input_4\")\n",
    "decoder_states_inputs = [decoder_state_input_h, decoder_state_input_c]\n",
    "decoder_lstm = model.layers[3]\n",
    "decoder_outputs, state_h_dec, state_c_dec = decoder_lstm(\n",
    "    decoder_inputs, initial_state=decoder_states_inputs\n",
    ")\n",
    "decoder_states = [state_h_dec, state_c_dec]\n",
    "decoder_dense = model.layers[4]\n",
    "decoder_outputs = decoder_dense(decoder_outputs)\n",
    "decoder_model = keras.Model(\n",
    "    [decoder_inputs] + decoder_states_inputs, [decoder_outputs] + decoder_states\n",
    ")"
   ]
  },
  {
   "cell_type": "code",
   "execution_count": 17,
   "id": "999def44",
   "metadata": {},
   "outputs": [],
   "source": [
    "reverse_input_char_index = dict((i, char) for char, i in input_token_index.items())\n",
    "reverse_target_char_index = dict((i, char) for char, i in target_token_index.items())"
   ]
  },
  {
   "cell_type": "code",
   "execution_count": 18,
   "id": "e8e7a009",
   "metadata": {},
   "outputs": [],
   "source": [
    "def decode_sequence(input_seq):\n",
    "    states_value = encoder_model.predict(input_seq)\n",
    "    target_seq = np.zeros((1, 1, num_decoder_tokens))\n",
    "    target_seq[0, 0, target_token_index[\"\\t\"]] = 1.0\n",
    "\n",
    "    stop_condition = False\n",
    "    decoded_sentence = \"\"\n",
    "    while not stop_condition:\n",
    "        output_tokens, h, c = decoder_model.predict([target_seq] + states_value)\n",
    "        sampled_token_index = np.argmax(output_tokens[0, -1, :])\n",
    "        sampled_char = reverse_target_char_index[sampled_token_index]\n",
    "        decoded_sentence += sampled_char\n",
    "\n",
    "        if sampled_char == \"\\n\" or len(decoded_sentence) > max_decoder_seq_length:\n",
    "            stop_condition = True\n",
    "        target_seq = np.zeros((1, 1, num_decoder_tokens))\n",
    "        target_seq[0, 0, sampled_token_index] = 1.0\n",
    "\n",
    "        states_value = [h, c]\n",
    "    return decoded_sentence"
   ]
  },
  {
   "cell_type": "code",
   "execution_count": 19,
   "id": "fb75a46f",
   "metadata": {},
   "outputs": [
    {
     "name": "stdout",
     "output_type": "stream",
     "text": [
      "1/1 [==============================] - 1s 764ms/step\n",
      "1/1 [==============================] - 1s 681ms/step\n",
      "1/1 [==============================] - 0s 31ms/step\n",
      "1/1 [==============================] - 0s 31ms/step\n",
      "1/1 [==============================] - 0s 31ms/step\n",
      "1/1 [==============================] - 0s 31ms/step\n",
      "1/1 [==============================] - 0s 31ms/step\n",
      "1/1 [==============================] - 0s 32ms/step\n",
      "1/1 [==============================] - 0s 31ms/step\n",
      "1/1 [==============================] - 0s 31ms/step\n",
      "1/1 [==============================] - 0s 31ms/step\n",
      "1/1 [==============================] - 0s 31ms/step\n",
      "1/1 [==============================] - 0s 31ms/step\n",
      "-\n",
      "Input: We know it now.\n",
      "Translation: Lo sabemos.\n",
      "\n"
     ]
    }
   ],
   "source": [
    "i = np.random.choice(len(input_texts))\n",
    "input_seq = encoder_input_data[i:i+1]\n",
    "translation = decode_sequence(input_seq)\n",
    "print('-')\n",
    "print('Input:', input_texts[i])\n",
    "print('Translation:', translation)"
   ]
  },
  {
   "cell_type": "code",
   "execution_count": null,
   "id": "fd390455",
   "metadata": {},
   "outputs": [],
   "source": []
  },
  {
   "cell_type": "code",
   "execution_count": null,
   "id": "33cc84a3",
   "metadata": {},
   "outputs": [],
   "source": []
  },
  {
   "cell_type": "code",
   "execution_count": null,
   "id": "d0115dcc",
   "metadata": {},
   "outputs": [],
   "source": []
  }
 ],
 "metadata": {
  "kernelspec": {
   "display_name": "Python 3 (ipykernel)",
   "language": "python",
   "name": "python3"
  },
  "language_info": {
   "codemirror_mode": {
    "name": "ipython",
    "version": 3
   },
   "file_extension": ".py",
   "mimetype": "text/x-python",
   "name": "python",
   "nbconvert_exporter": "python",
   "pygments_lexer": "ipython3",
   "version": "3.8.12"
  }
 },
 "nbformat": 4,
 "nbformat_minor": 5
}
