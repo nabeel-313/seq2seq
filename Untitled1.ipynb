{
 "cells": [
  {
   "cell_type": "code",
   "execution_count": 49,
   "id": "f11af915",
   "metadata": {},
   "outputs": [
    {
     "name": "stderr",
     "output_type": "stream",
     "text": [
      "[nltk_data] Downloading package stopwords to\n",
      "[nltk_data]     C:\\Users\\Nabeel_Ahmed\\AppData\\Roaming\\nltk_data...\n",
      "[nltk_data]   Package stopwords is already up-to-date!\n"
     ]
    },
    {
     "data": {
      "text/plain": [
       "True"
      ]
     },
     "execution_count": 49,
     "metadata": {},
     "output_type": "execute_result"
    }
   ],
   "source": [
    "\n",
    "import pickle\n",
    "import numpy as np\n",
    "from nltk.corpus import stopwords\n",
    "import nltk\n",
    "import os\n",
    "import pandas as pd\n",
    "from attention import AttentionLayer\n",
    "from keras.callbacks import ModelCheckpoint\n",
    "from tensorflow.keras.models import load_model\n",
    "from keras.utils import plot_model\n",
    "\n",
    "from keras.preprocessing.text import Tokenizer\n",
    "from keras.preprocessing.text import text_to_word_sequence\n",
    "import re\n",
    "from tensorflow.keras.preprocessing.sequence import pad_sequences\n",
    "nltk.download('stopwords')"
   ]
  },
  {
   "cell_type": "code",
   "execution_count": 32,
   "id": "5b98f495",
   "metadata": {},
   "outputs": [],
   "source": [
    "import pandas as pd\n",
    "\n",
    "summary = pd.read_csv(r'E:\\Pycharm_Projects\\tf_prac\\Encoder,Decoder,Seq2Seq\\Summary dataset\\news summary\\news_summary.csv',\n",
    "                      encoding='iso-8859-1')\n",
    "raw = pd.read_csv(r'E:\\Pycharm_Projects\\tf_prac\\Encoder,Decoder,Seq2Seq\\Summary dataset\\news summary\\news_summary_more.csv',\n",
    "                  encoding='iso-8859-1')\n"
   ]
  },
  {
   "cell_type": "code",
   "execution_count": 33,
   "id": "dce8f11b",
   "metadata": {},
   "outputs": [],
   "source": [
    "csv_file  = raw.iloc[:15000, 0:2].copy()\n",
    "# pre2 = summary.iloc[:15000, 0:6].copy()\n",
    "\n",
    "# # To increase the intake of possible text values to build a reliable model\n",
    "# pre2['text'] = pre2['author'].str.cat(pre2['date'].str.cat(pre2['read_more'].str.cat(pre2['text'].str.cat(pre2['ctext'], sep=' '), sep=' '), sep=' '), sep=' ')\n",
    "\n",
    "# pre = pd.DataFrame()\n",
    "# pre['text'] = pd.concat([pre1['text'], pre2['text']], ignore_index=True)\n",
    "# pre['summary'] = pd.concat([pre1['headlines'], pre2['headlines']],ignore_index=True)"
   ]
  },
  {
   "cell_type": "code",
   "execution_count": 34,
   "id": "e1143fe3",
   "metadata": {},
   "outputs": [
    {
     "data": {
      "text/plain": [
       "0        upGrad learner switches to career in ML & Al w...\n",
       "1        Delhi techie wins free food from Swiggy for on...\n",
       "2        New Zealand end Rohit Sharma-led India's 12-ma...\n",
       "3        Aegon life iTerm insurance plan helps customer...\n",
       "4        Have known Hirani for yrs, what if MeToo claim...\n",
       "                               ...                        \n",
       "14995    Fire breaks out at Kolkata hospital, over 200 ...\n",
       "14996    UP policeman shot at me to earn promotion, cla...\n",
       "14997    Video of airport baggage handlers throwing lug...\n",
       "14998    Canada strips Aung San Suu Kyi of honorary cit...\n",
       "14999    Told Saudi King he wouldn't last without US su...\n",
       "Name: headlines, Length: 15000, dtype: object"
      ]
     },
     "execution_count": 34,
     "metadata": {},
     "output_type": "execute_result"
    }
   ],
   "source": [
    "csv_file['headlines']"
   ]
  },
  {
   "cell_type": "code",
   "execution_count": 35,
   "id": "6b9805b7",
   "metadata": {},
   "outputs": [
    {
     "data": {
      "text/plain": [
       "0        Saurav Kant, an alumnus of upGrad and IIIT-B's...\n",
       "1        Kunal Shah's credit card bill payment platform...\n",
       "2        New Zealand defeated India by 8 wickets in the...\n",
       "3        With Aegon Life iTerm Insurance plan, customer...\n",
       "4        Speaking about the sexual harassment allegatio...\n",
       "                               ...                        \n",
       "14995    A fire broke out in the pharmacy department of...\n",
       "14996    Jitender Yadav, a 26-year-old ex-bodybuilder, ...\n",
       "14997    A video of baggage handlers throwing suitcases...\n",
       "14998    Canada on Tuesday stripped Myanmar leader Aung...\n",
       "14999    US President Donald Trump on Tuesday claimed h...\n",
       "Name: text, Length: 15000, dtype: object"
      ]
     },
     "execution_count": 35,
     "metadata": {},
     "output_type": "execute_result"
    }
   ],
   "source": [
    "csv_file['text']"
   ]
  },
  {
   "cell_type": "code",
   "execution_count": 36,
   "id": "ea454640",
   "metadata": {},
   "outputs": [
    {
     "name": "stdout",
     "output_type": "stream",
     "text": [
      "459 84\n"
     ]
    }
   ],
   "source": [
    "mx1 = 0\n",
    "mx2 = 0\n",
    "for i in range(len(csv_file['text'])):\n",
    "    mx1 = max(mx1,len(csv_file['text'][i]))\n",
    "    mx2 = max(mx2,len(csv_file['headlines'][i]))\n",
    "\n",
    "print(mx1,mx2)\n",
    "\n",
    "frq_text     = []\n",
    "frq_headline = []\n",
    "\n",
    "for i in range(len(csv_file['text'])):\n",
    "    frq_text.append(len(csv_file['text'][i]))\n",
    "    frq_headline.append(len(csv_file['headlines'][i]))"
   ]
  },
  {
   "cell_type": "code",
   "execution_count": 37,
   "id": "049d0b08",
   "metadata": {},
   "outputs": [],
   "source": [
    "max_input_len = 400\n",
    "max_output_len = 70\n",
    "     "
   ]
  },
  {
   "cell_type": "code",
   "execution_count": 38,
   "id": "15f49142",
   "metadata": {},
   "outputs": [
    {
     "data": {
      "image/png": "[encoded data removed]",
      "text/plain": [
       "<Figure size 640x480 with 1 Axes>"
      ]
     },
     "metadata": {},
     "output_type": "display_data"
    }
   ],
   "source": [
    "import matplotlib.pyplot as plt\n",
    "plt.hist(frq_text,bins = 50)\n",
    "plt.axvline(x=max_input_len,c='red')  ### max sequence length for text input \n",
    "plt.show()"
   ]
  },
  {
   "cell_type": "code",
   "execution_count": 39,
   "id": "a0aca6a1",
   "metadata": {},
   "outputs": [
    {
     "data": {
      "image/png": "[encoded data removed]",
      "text/plain": [
       "<Figure size 640x480 with 1 Axes>"
      ]
     },
     "metadata": {},
     "output_type": "display_data"
    }
   ],
   "source": [
    "plt.hist(frq_headline,bins = 50)\n",
    "plt.axvline(x=max_output_len,c='red')  ### max sequence length for output \n",
    "plt.show()"
   ]
  },
  {
   "cell_type": "code",
   "execution_count": 44,
   "id": "37fc35b5",
   "metadata": {},
   "outputs": [],
   "source": [
    "def clean_text(text,add_eos_sos = False):\n",
    "    text = text.lower()\n",
    "    text = re.sub(r\"i'm\", \"i am\", text)\n",
    "    text = re.sub(r\"he's\", \"he is\", text)\n",
    "    text = re.sub(r\"she's\", \"she is\", text)\n",
    "    text = re.sub(r\"it's\", \"it is\", text)\n",
    "    text = re.sub(r\"that's\", \"that is\", text)\n",
    "    text = re.sub(r\"what's\", \"that is\", text)\n",
    "    text = re.sub(r\"where's\", \"where is\", text)\n",
    "    text = re.sub(r\"how's\", \"how is\", text)\n",
    "    text = re.sub(r\"\\'ll\", \" will\", text)\n",
    "    text = re.sub(r\"\\'ve\", \" have\", text)\n",
    "    text = re.sub(r\"\\'re\", \" are\", text)\n",
    "    text = re.sub(r\"\\'d\", \" would\", text)\n",
    "    text = re.sub(r\"\\'re\", \" are\", text)\n",
    "    text = re.sub(r\"won't\", \"will not\", text)\n",
    "    text = re.sub(r\"can't\", \"cannot\", text)\n",
    "    text = re.sub(r\"n't\", \" not\", text)\n",
    "    text = re.sub(r\"n'\", \"ng\", text)\n",
    "    text = re.sub(r\"'bout\", \"about\", text)\n",
    "    text = re.sub(r\"'til\", \"until\", text)\n",
    "    text = re.sub(r\"[-_'()\\\"#/@;:<>{}`+=~|.!?,]\", \"\", text)\n",
    "    if add_eos_sos:\n",
    "        text = 'sos ' + text + 'eos'\n",
    "    return text"
   ]
  },
  {
   "cell_type": "code",
   "execution_count": 45,
   "id": "4009a1c4",
   "metadata": {},
   "outputs": [
    {
     "data": {
      "text/plain": [
       "0        saurav kant an alumnus of upgrad and iiitbs pg...\n",
       "1        kunal shahs credit card bill payment platform ...\n",
       "2        new zealand defeated india by 8 wickets in the...\n",
       "3        with aegon life iterm insurance plan customers...\n",
       "4        speaking about the sexual harassment allegatio...\n",
       "                               ...                        \n",
       "14995    a fire broke out in the pharmacy department of...\n",
       "14996    jitender yadav a 26yearold exbodybuilder revea...\n",
       "14997    a video of baggage handlers throwing suitcases...\n",
       "14998    canada on tuesday stripped myanmar leader aung...\n",
       "14999    us president donald trump on tuesday claimed h...\n",
       "Name: text, Length: 15000, dtype: object"
      ]
     },
     "execution_count": 45,
     "metadata": {},
     "output_type": "execute_result"
    }
   ],
   "source": [
    "csv_file['text'] = csv_file['text'].apply(clean_text)\n",
    "csv_file['text']"
   ]
  },
  {
   "cell_type": "code",
   "execution_count": 46,
   "id": "7c558e18",
   "metadata": {},
   "outputs": [
    {
     "data": {
      "text/plain": [
       "0        sos  upgrad learner switches to career in ml &...\n",
       "1        sos  delhi techie wins free food from swiggy f...\n",
       "2        sos  new zealand end rohit sharmaled indias 12...\n",
       "3        sos  aegon life iterm insurance plan helps cus...\n",
       "4        sos  have known hirani for yrs what if metoo c...\n",
       "                               ...                        \n",
       "14995    sos  fire breaks out at kolkata hospital over ...\n",
       "14996    sos  up policeman shot at me to earn promotion...\n",
       "14997    sos  video of airport baggage handlers throwin...\n",
       "14998    sos  canada strips aung san suu kyi of honorar...\n",
       "14999    sos  told saudi king he would not last without...\n",
       "Name: headlines, Length: 15000, dtype: object"
      ]
     },
     "execution_count": 46,
     "metadata": {},
     "output_type": "execute_result"
    }
   ],
   "source": [
    "csv_file['headlines'] = csv_file['headlines'].apply(clean_text,add_eos_sos = True)\n",
    "csv_file['headlines']\n",
    "     \n"
   ]
  },
  {
   "cell_type": "code",
   "execution_count": 47,
   "id": "14c617f7",
   "metadata": {
    "scrolled": true
   },
   "outputs": [],
   "source": [
    "\n",
    "def text_tokenize(text):\n",
    "    tokens = []\n",
    "    for line in text:\n",
    "        tokens.append(text_to_word_sequence(line, lower=True, split=' '))\n",
    "    return tokens\n",
    "     "
   ]
  },
  {
   "cell_type": "code",
   "execution_count": 50,
   "id": "ccf638d1",
   "metadata": {},
   "outputs": [],
   "source": [
    "input_tokens  = text_tokenize(csv_file['text'])\n",
    "output_tokens  = text_tokenize(csv_file['headlines'])\n",
    "     \n"
   ]
  },
  {
   "cell_type": "code",
   "execution_count": null,
   "id": "8a26a9c6",
   "metadata": {},
   "outputs": [],
   "source": [
    "print(text[0])\n",
    "print(summary[0])"
   ]
  },
  {
   "cell_type": "code",
   "execution_count": null,
   "id": "afea9a94",
   "metadata": {},
   "outputs": [],
   "source": [
    "pre['cleaned_text'] = pd.Series(text)\n",
    "pre['cleaned_summary'] = pd.Series(summary)"
   ]
  },
  {
   "cell_type": "code",
   "execution_count": 51,
   "id": "29b09bc2",
   "metadata": {},
   "outputs": [
    {
     "name": "stdout",
     "output_type": "stream",
     "text": [
      "saurav kant an alumnus of upgrad and iiitbs pg program in machine learning and artificial intelligence was a sr systems engineer at infosys with almost 5 years of work experience the program and upgrads 360degree career support helped him transition to a data scientist at tech mahindra with 90% salary hike upgrads online power learning has powered 3 lakh careers\n",
      "['saurav', 'kant', 'an', 'alumnus', 'of', 'upgrad', 'and', 'iiitbs', 'pg', 'program', 'in', 'machine', 'learning', 'and', 'artificial', 'intelligence', 'was', 'a', 'sr', 'systems', 'engineer', 'at', 'infosys', 'with', 'almost', '5', 'years', 'of', 'work', 'experience', 'the', 'program', 'and', 'upgrads', '360degree', 'career', 'support', 'helped', 'him', 'transition', 'to', 'a', 'data', 'scientist', 'at', 'tech', 'mahindra', 'with', '90', 'salary', 'hike', 'upgrads', 'online', 'power', 'learning', 'has', 'powered', '3', 'lakh', 'careers']\n",
      "\n",
      "\n",
      " sos  upgrad learner switches to career in ml & al with 90% salary hike eos\n",
      "['sos', 'upgrad', 'learner', 'switches', 'to', 'career', 'in', 'ml', 'al', 'with', '90', 'salary', 'hike', 'eos']\n"
     ]
    }
   ],
   "source": [
    "print(csv_file['text'][0])\n",
    "print(input_tokens[0])\n",
    "print('\\n\\n',csv_file['headlines'][0])\n",
    "print(output_tokens[0])"
   ]
  },
  {
   "cell_type": "code",
   "execution_count": 52,
   "id": "1c732840",
   "metadata": {},
   "outputs": [],
   "source": [
    "VOCAB_SIZE = 7000\n",
    "def vocab_creater(text_lists, VOCAB_SIZE):\n",
    "    tokenizer = Tokenizer(num_words=VOCAB_SIZE)\n",
    "    tokenizer.fit_on_texts(text_lists)\n",
    "    dictionary = tokenizer.word_index\n",
    "    word2idx = {}\n",
    "    idx2word = {}\n",
    "    for k, v in dictionary.items():\n",
    "        if v < VOCAB_SIZE:\n",
    "            word2idx[k] = v-1\n",
    "            idx2word[v-1] = k\n",
    "        if v >= VOCAB_SIZE:\n",
    "            break\n",
    "    return word2idx, idx2word"
   ]
  },
  {
   "cell_type": "code",
   "execution_count": null,
   "id": "181e3d3a",
   "metadata": {},
   "outputs": [],
   "source": []
  },
  {
   "cell_type": "code",
   "execution_count": null,
   "id": "ac7cfc5e",
   "metadata": {},
   "outputs": [],
   "source": []
  },
  {
   "cell_type": "code",
   "execution_count": null,
   "id": "b09bfebc",
   "metadata": {},
   "outputs": [],
   "source": []
  },
  {
   "cell_type": "code",
   "execution_count": null,
   "id": "f707d748",
   "metadata": {},
   "outputs": [],
   "source": []
  },
  {
   "cell_type": "code",
   "execution_count": null,
   "id": "62f7fd2e",
   "metadata": {},
   "outputs": [],
   "source": []
  },
  {
   "cell_type": "code",
   "execution_count": null,
   "id": "fdb818e8",
   "metadata": {},
   "outputs": [],
   "source": []
  },
  {
   "cell_type": "code",
   "execution_count": null,
   "id": "13c148fc",
   "metadata": {},
   "outputs": [],
   "source": []
  },
  {
   "cell_type": "code",
   "execution_count": null,
   "id": "b34d02b2",
   "metadata": {},
   "outputs": [],
   "source": []
  },
  {
   "cell_type": "code",
   "execution_count": null,
   "id": "f8e03242",
   "metadata": {},
   "outputs": [],
   "source": []
  },
  {
   "cell_type": "code",
   "execution_count": null,
   "id": "6dcbb1a5",
   "metadata": {},
   "outputs": [],
   "source": []
  },
  {
   "cell_type": "code",
   "execution_count": null,
   "id": "79f86b9b",
   "metadata": {},
   "outputs": [],
   "source": []
  },
  {
   "cell_type": "code",
   "execution_count": null,
   "id": "d5e59456",
   "metadata": {},
   "outputs": [],
   "source": []
  },
  {
   "cell_type": "code",
   "execution_count": null,
   "id": "29ed3238",
   "metadata": {},
   "outputs": [],
   "source": []
  },
  {
   "cell_type": "code",
   "execution_count": null,
   "id": "70928029",
   "metadata": {},
   "outputs": [],
   "source": []
  },
  {
   "cell_type": "code",
   "execution_count": null,
   "id": "6ef3308f",
   "metadata": {},
   "outputs": [],
   "source": []
  }
 ],
 "metadata": {
  "kernelspec": {
   "display_name": "Python 3 (ipykernel)",
   "language": "python",
   "name": "python3"
  },
  "language_info": {
   "codemirror_mode": {
    "name": "ipython",
    "version": 3
   },
   "file_extension": ".py",
   "mimetype": "text/x-python",
   "name": "python",
   "nbconvert_exporter": "python",
   "pygments_lexer": "ipython3",
   "version": "3.8.12"
  }
 },
 "nbformat": 4,
 "nbformat_minor": 5
}
